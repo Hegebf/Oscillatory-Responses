{
 "cells": [
  {
   "cell_type": "markdown",
   "metadata": {},
   "source": [
    "# Process AMOC and sea ice data to single time series"
   ]
  },
  {
   "cell_type": "code",
   "execution_count": 88,
   "metadata": {},
   "outputs": [],
   "source": [
    "import numpy as np\n",
    "from matplotlib import pyplot as plt\n",
    "import pandas as pd\n",
    "import os\n",
    "import xarray as xr\n"
   ]
  },
  {
   "cell_type": "code",
   "execution_count": null,
   "metadata": {},
   "outputs": [],
   "source": [
    "dir = '../../../Data/CESM104/'\n",
    "areas = xr.open_dataset(dir + 'areacella_fx_CESM2-FV2_historical_r1i1p1f1_gn.nc')\n",
    "sic = xr.open_dataset(dir + 'sic_mon_CESM104_abrupt2x_2500.nc')\n",
    "moc = xr.open_dataset(dir + 'moc_ann_CESM104_abrupt2x_2500.nc')\n",
    "moc"
   ]
  },
  {
   "cell_type": "code",
   "execution_count": null,
   "metadata": {},
   "outputs": [],
   "source": [
    "moc_below500m = moc.where(moc.moc_z/100 > 500, drop=True)\n",
    "# /100 to convert from cm to m\n",
    "moc_above30N = moc_below500m.where(moc_below500m.lat_aux_grid > 30, drop=True)\n",
    "moc_total = moc_above30N.sum(dim=\"moc_comp\")\n",
    "moc_total"
   ]
  },
  {
   "cell_type": "code",
   "execution_count": 97,
   "metadata": {},
   "outputs": [],
   "source": [
    "maxmoc1 = moc_above30N.sel(moc_comp = 0).max(dim=(\"moc_z\", \"lat_aux_grid\")) # Eulearian mean\n",
    "maxmoc2 = moc_above30N.sel(moc_comp = 1).max(dim=(\"moc_z\", \"lat_aux_grid\")) # Eddy-Induced (bolus)\n",
    "maxmoc3 = moc_above30N.sel(moc_comp = 2).max(dim=(\"moc_z\", \"lat_aux_grid\")) # submeso\n",
    "maxmoc = moc_total.max(dim=(\"moc_z\", \"lat_aux_grid\")) "
   ]
  },
  {
   "cell_type": "code",
   "execution_count": null,
   "metadata": {},
   "outputs": [],
   "source": [
    "moc_to_save = maxmoc.isel(transport_reg = 1)\n",
    "#moc_to_save.to_netcdf('../../Other_data/longrunmip_data/max_moc_CESM104_abrupt2x.nc')"
   ]
  },
  {
   "cell_type": "code",
   "execution_count": null,
   "metadata": {},
   "outputs": [],
   "source": [
    "fig, ax = plt.subplots(figsize  = (12,5))\n",
    "maxmoc.moc.isel(transport_reg = 0).plot()\n",
    "maxmoc.moc.isel(transport_reg = 1).plot()\n",
    "ax.grid()"
   ]
  },
  {
   "cell_type": "code",
   "execution_count": 127,
   "metadata": {},
   "outputs": [],
   "source": [
    "NH_seaicearea = (sic * areas.areacella).where(sic.lat>0, drop=True).sum(dim = (\"lat\", \"lon\"))\n",
    "SH_seaicearea = (sic * areas.areacella).where(sic.lat<0, drop=True).sum(dim = (\"lat\", \"lon\"))\n",
    "NH_seaicearea = NH_seaicearea.rename({\"sic\": \"seaicearea\"})\n",
    "SH_seaicearea = SH_seaicearea.rename({\"sic\": \"seaicearea\"})\n"
   ]
  },
  {
   "cell_type": "code",
   "execution_count": 129,
   "metadata": {},
   "outputs": [],
   "source": [
    "NHseaice = NH_seaicearea.groupby('time.year').mean('time')\n",
    "SHseaice = SH_seaicearea.groupby('time.year').mean('time')\n",
    "\n",
    "#NHseaice.to_netcdf('../../Other_data/longrunmip_data/NH_seaice.nc')\n",
    "#SHseaice.to_netcdf('../../Other_data/longrunmip_data/SH_seaice.nc')"
   ]
  },
  {
   "cell_type": "code",
   "execution_count": null,
   "metadata": {},
   "outputs": [],
   "source": [
    "(NHseaice.seaicearea/10**12).plot()\n",
    "(SHseaice.seaicearea/10**12).plot()\n"
   ]
  }
 ],
 "metadata": {
  "kernelspec": {
   "display_name": "general_analyses",
   "language": "python",
   "name": "python3"
  },
  "language_info": {
   "codemirror_mode": {
    "name": "ipython",
    "version": 3
   },
   "file_extension": ".py",
   "mimetype": "text/x-python",
   "name": "python",
   "nbconvert_exporter": "python",
   "pygments_lexer": "ipython3",
   "version": "3.11.5"
  }
 },
 "nbformat": 4,
 "nbformat_minor": 2
}
