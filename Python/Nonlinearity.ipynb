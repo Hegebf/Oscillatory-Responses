{
 "cells": [
  {
   "cell_type": "markdown",
   "id": "bbac5790-69df-4a89-8446-43aba15f1823",
   "metadata": {},
   "source": [
    "# Quantify nonlinearity of temperature responses"
   ]
  },
  {
   "cell_type": "code",
   "execution_count": 1,
   "id": "c929e66d-167c-436b-9587-f81925834db6",
   "metadata": {},
   "outputs": [],
   "source": [
    "import os\n",
    "import numpy as np\n",
    "import pandas as pd\n",
    "import matplotlib.pyplot as plt\n",
    "import matplotlib.transforms as transforms\n",
    "from scipy import optimize\n",
    "from estimation import *"
   ]
  },
  {
   "cell_type": "code",
   "execution_count": 2,
   "id": "7162ecbe-86bf-4744-9eb6-2d1b1a0eb030",
   "metadata": {},
   "outputs": [],
   "source": [
    "# Forcing ratios from Gregory regressions\n",
    "erf_ratios_0p5x_df = pd.read_csv('../Other_estimates/forcing_ratios_2x_to_0p5x.csv', index_col=0)['Mean']\n",
    "erf_ratios_4x_df = pd.read_csv('../Other_estimates/forcing_ratios_2x_to_4x.csv', index_col=0)['Mean']\n",
    "\n",
    "erf_ratios_4x_longrunmip_df = pd.read_csv('../Other_estimates/forcing_ratios_2x_to_4x_longrunmip.csv', index_col=0)['Mean']\n",
    "\n",
    "models_2x = list(erf_ratios_4x_df.index[:-2])\n",
    "models_0p5x = list(erf_ratios_0p5x_df.index[:-2])\n",
    "longrunmip_models = list(erf_ratios_4x_longrunmip_df.index[:-2])\n",
    "#longrunmip_models.remove('FAMOUS')\n",
    "erf_ratios_4x_longrunmip_df =  erf_ratios_4x_longrunmip_df.loc[longrunmip_models]"
   ]
  },
  {
   "cell_type": "code",
   "execution_count": 3,
   "id": "e4eb5f6f-3923-49bf-a85e-5a1074385c1e",
   "metadata": {},
   "outputs": [
    {
     "data": {
      "text/plain": [
       "['MPIESM12', 'HadCM3L', 'FAMOUS', 'CNRMCM61', 'CESM104', 'CCSM3']"
      ]
     },
     "execution_count": 3,
     "metadata": {},
     "output_type": "execute_result"
    }
   ],
   "source": [
    "longrunmip_models"
   ]
  },
  {
   "cell_type": "code",
   "execution_count": 4,
   "id": "f4f54e96-965f-4cfa-bb3f-1ec962b4aeb7",
   "metadata": {},
   "outputs": [
    {
     "data": {
      "text/plain": [
       "MPIESM12    0.449888\n",
       "HadCM3L     0.478543\n",
       "FAMOUS      0.643518\n",
       "CNRMCM61    0.494146\n",
       "CESM104     0.422806\n",
       "CCSM3       0.453878\n",
       "Name: Mean, dtype: float64"
      ]
     },
     "execution_count": 4,
     "metadata": {},
     "output_type": "execute_result"
    }
   ],
   "source": [
    "erf_ratios_4x_longrunmip_df"
   ]
  },
  {
   "cell_type": "code",
   "execution_count": 5,
   "id": "64e21cb8-1a15-4b9e-adfd-1d4918de5355",
   "metadata": {},
   "outputs": [
    {
     "data": {
      "text/plain": [
       "array([-1.07958291, -1.1546979 , -1.10125562, -1.01064097, -1.4054441 ,\n",
       "       -1.16936745, -0.90468041, -1.30891436, -1.00833715])"
      ]
     },
     "execution_count": 5,
     "metadata": {},
     "output_type": "execute_result"
    }
   ],
   "source": [
    "erf_ratios_0p5x_df[:-2].values"
   ]
  },
  {
   "cell_type": "code",
   "execution_count": 6,
   "id": "a0045b55-5b4a-40d1-8db9-1165b22ff98c",
   "metadata": {},
   "outputs": [
    {
     "data": {
      "text/plain": [
       "['CESM2',\n",
       " 'CNRM-CM6-1',\n",
       " 'CanESM5',\n",
       " 'GISS-E2-1-G',\n",
       " 'IPSL-CM6A-LR',\n",
       " 'MIROC6',\n",
       " 'MRI-ESM2-0',\n",
       " 'TaiESM1',\n",
       " 'HadGEM3-GC31-LL']"
      ]
     },
     "execution_count": 6,
     "metadata": {},
     "output_type": "execute_result"
    }
   ],
   "source": [
    "models_0p5x"
   ]
  },
  {
   "cell_type": "code",
   "execution_count": null,
   "id": "d71279c1-16c9-4fb9-b6ca-a659ad936fb1",
   "metadata": {},
   "outputs": [],
   "source": []
  },
  {
   "cell_type": "code",
   "execution_count": 7,
   "id": "96508ea7-f37c-46a9-b417-51a5efdd494a",
   "metadata": {},
   "outputs": [
    {
     "name": "stdout",
     "output_type": "stream",
     "text": [
      "CESM2              1.277005\n",
      "CNRM-CM6-1         1.312226\n",
      "CanESM5            0.867844\n",
      "GISS-E2-1-G        1.049045\n",
      "GISS-E2-1-H             NaN\n",
      "GISS-E2-2-G             NaN\n",
      "GISS-E2-2-H             NaN\n",
      "IPSL-CM6A-LR       0.995551\n",
      "MIROC6             1.395026\n",
      "MRI-ESM2-0         0.922683\n",
      "TaiESM1            1.236016\n",
      "HadGEM3-GC31-LL    1.117238\n",
      "Name: 2x/0p5x, dtype: object\n"
     ]
    },
    {
     "data": {
      "image/png": "[encoded data removed]",
      "text/plain": [
       "<Figure size 1152x720 with 4 Axes>"
      ]
     },
     "metadata": {
      "needs_background": "light"
     },
     "output_type": "display_data"
    }
   ],
   "source": [
    "\n",
    "T_ratios = pd.DataFrame([],index = models_2x, columns = ['2x/4x', '2x/0p5x'])\n",
    "T_ratios_longrunmip = pd.DataFrame([],index = longrunmip_models, columns = ['2x/4x, 150 yr', '2x/4x, all yrs',])\n",
    "\n",
    "for model in models_2x:\n",
    "    exp = 'abrupt-4xCO2'\n",
    "    members = find_members(model, exp)\n",
    "    T_4x = member_mean_tas(model, members, length_restriction = 150, exp = exp)[1:]\n",
    "\n",
    "    exp = 'abrupt-2xCO2'\n",
    "    members = find_members(model, exp)\n",
    "    T_2x = member_mean_tas(model, members, length_restriction = 150, exp = exp)[1:]\n",
    "    \n",
    "    T_ratios.loc[model]['2x/4x'] = np.mean(T_2x/T_4x)\n",
    "    \n",
    "for model in models_0p5x:\n",
    "    exp = 'abrupt-0p5xCO2'\n",
    "    members = find_members(model, exp)\n",
    "    T_0p5x = member_mean_tas(model, members, length_restriction = 150, exp = exp)[1:]\n",
    "    \n",
    "    exp = 'abrupt-2xCO2'\n",
    "    members = find_members(model, exp)\n",
    "    T_2x = member_mean_tas(model, members, length_restriction = 150, exp = exp)[1:]\n",
    "    \n",
    "    T_ratios.loc[model]['2x/0p5x'] = np.mean(T_2x/T_0p5x)\n",
    "    \n",
    "for model in longrunmip_models:\n",
    "    model_tas_4x_all, model_toarad_4x = load_longrunmip_data(model, exp = 'abrupt4x', length_restriction = None)\n",
    "    model_tas_2x_all, model_toarad_2x = load_longrunmip_data(model, exp = 'abrupt2x', length_restriction = None)\n",
    "    \n",
    "    model_tas_4x_150, model_toarad_4x = load_longrunmip_data(model, exp = 'abrupt4x', length_restriction = 150)\n",
    "    model_tas_2x_150, model_toarad_2x = load_longrunmip_data(model, exp = 'abrupt2x', length_restriction = 150)\n",
    "    \n",
    "    T_ratios_longrunmip.loc[model]['2x/4x, 150 yr'] = np.nanmean(model_tas_2x_150/model_tas_4x_150)\n",
    "    T_ratios_longrunmip.loc[model]['2x/4x, all yrs'] = np.nanmean(model_tas_2x_all/model_tas_4x_all)\n",
    "\n",
    "fig, ax = plt.subplots(ncols = 2, nrows = 2, figsize = (16,10))\n",
    "axes = np.concatenate(ax)\n",
    "rw = 0.95\n",
    "mw = 6\n",
    "\n",
    "# upper left\n",
    "f4x = etminan_co2forcing(4*284.3169998547858)\n",
    "f2x = etminan_co2forcing(2*284.3169998547858)\n",
    "F_ratio = f2x/f4x # = 0.478, constant for all models\n",
    "ax[0,0].hist(T_ratios['2x/4x']/F_ratio, rwidth = rw, alpha = 0.5)\n",
    "ax[0,0].axvline(x=np.mean(T_ratios['2x/4x']/F_ratio), color = 'C0', linewidth = mw)\n",
    "\n",
    "ax[0,0].hist(T_ratios_longrunmip['2x/4x, 150 yr']/F_ratio, rwidth = rw, alpha = 0.5)\n",
    "ax[0,0].axvline(x=np.mean(T_ratios_longrunmip['2x/4x, 150 yr']/F_ratio), color = 'C1', linewidth = mw)\n",
    "\n",
    "ax[0,0].set_title('(T$_{2x}$/T$_{4x}$) / (F$_{2x}$/F$_{4x}$)')\n",
    "ax[0,0].text(0.65, 0.9, 'F$_{2x}$/F$_{4x}$ = 0.478', fontsize = 14, transform=ax[0,0].transAxes)\n",
    "\n",
    "# lower left\n",
    "F_ratio = -1\n",
    "ax[1,0].hist(T_ratios['2x/0p5x']/F_ratio, rwidth = rw, alpha = 0.5)\n",
    "print(T_ratios['2x/0p5x']/F_ratio)\n",
    "ax[1,0].axvline(x=np.mean(T_ratios['2x/0p5x']/F_ratio), color = 'C0', linewidth = mw)\n",
    "ax[1,0].set_title('(T$_{2x}$/T$_{0p5x}$) / (F$_{2x}$/F$_{0p5x}$)')\n",
    "ax[1,0].text(0.75, 0.9, 'F$_{2x}$/F$_{4x}$ = -1', fontsize = 14, transform=ax[1,0].transAxes)\n",
    "\n",
    "# upper right\n",
    "F_ratios = erf_ratios_4x_df[:-2].values\n",
    "ax[0,1].hist(T_ratios['2x/4x'].values/F_ratios, rwidth = rw, alpha = 0.5)\n",
    "ax[0,1].axvline(x=np.mean(T_ratios['2x/4x']/F_ratios), color = 'C0', linewidth = mw)\n",
    "\n",
    "F_ratios = erf_ratios_4x_longrunmip_df.values\n",
    "ax[0,1].hist(T_ratios_longrunmip['2x/4x, 150 yr']/F_ratios, rwidth = rw, alpha = 0.5)\n",
    "ax[0,1].axvline(x=np.mean(T_ratios_longrunmip['2x/4x, 150 yr']/F_ratios), color = 'C1', linewidth = mw)\n",
    "\n",
    "ax[0,1].set_title('(T$_{2x}$/T$_{4x}$) / (F$_{2x}$/F$_{4x}$)')\n",
    "\n",
    "# lower right\n",
    "F_ratios = erf_ratios_0p5x_df[:-2].values\n",
    "ax[1,1].hist(T_ratios.loc[models_0p5x]['2x/0p5x'].values/F_ratios, rwidth = rw, alpha = 0.5)\n",
    "ax[1,1].axvline(x=np.mean(T_ratios.loc[models_0p5x]['2x/0p5x']/F_ratios), color = 'C0', linewidth = mw)\n",
    "ax[1,1].set_title('(T$_{2x}$/T$_{0p5x}$) / (F$_{2x}$/F$_{0p5x}$)')\n",
    "\n",
    "for axis in axes:\n",
    "    axis.axvline(x=1, linestyle = '--', color = 'black', linewidth = 2)\n",
    "    axis.set_xlim([0.7, 1.4])\n",
    "    axis.tick_params(axis='both', labelsize = 14)"
   ]
  },
  {
   "cell_type": "code",
   "execution_count": 8,
   "id": "46117777-e2db-45c0-8db9-3bf9922209b5",
   "metadata": {},
   "outputs": [
    {
     "data": {
      "text/html": [
       "<div>\n",
       "<style scoped>\n",
       "    .dataframe tbody tr th:only-of-type {\n",
       "        vertical-align: middle;\n",
       "    }\n",
       "\n",
       "    .dataframe tbody tr th {\n",
       "        vertical-align: top;\n",
       "    }\n",
       "\n",
       "    .dataframe thead th {\n",
       "        text-align: right;\n",
       "    }\n",
       "</style>\n",
       "<table border=\"1\" class=\"dataframe\">\n",
       "  <thead>\n",
       "    <tr style=\"text-align: right;\">\n",
       "      <th></th>\n",
       "      <th>2x/4x</th>\n",
       "      <th>2x/0p5x</th>\n",
       "    </tr>\n",
       "  </thead>\n",
       "  <tbody>\n",
       "    <tr>\n",
       "      <th>CESM2</th>\n",
       "      <td>0.389121</td>\n",
       "      <td>-1.277005</td>\n",
       "    </tr>\n",
       "    <tr>\n",
       "      <th>CNRM-CM6-1</th>\n",
       "      <td>0.447722</td>\n",
       "      <td>-1.312226</td>\n",
       "    </tr>\n",
       "    <tr>\n",
       "      <th>CanESM5</th>\n",
       "      <td>0.426856</td>\n",
       "      <td>-0.867844</td>\n",
       "    </tr>\n",
       "    <tr>\n",
       "      <th>GISS-E2-1-G</th>\n",
       "      <td>0.476208</td>\n",
       "      <td>-1.049045</td>\n",
       "    </tr>\n",
       "    <tr>\n",
       "      <th>GISS-E2-1-H</th>\n",
       "      <td>0.481441</td>\n",
       "      <td>NaN</td>\n",
       "    </tr>\n",
       "    <tr>\n",
       "      <th>GISS-E2-2-G</th>\n",
       "      <td>0.538585</td>\n",
       "      <td>NaN</td>\n",
       "    </tr>\n",
       "    <tr>\n",
       "      <th>GISS-E2-2-H</th>\n",
       "      <td>0.477807</td>\n",
       "      <td>NaN</td>\n",
       "    </tr>\n",
       "    <tr>\n",
       "      <th>IPSL-CM6A-LR</th>\n",
       "      <td>0.44012</td>\n",
       "      <td>-0.995551</td>\n",
       "    </tr>\n",
       "    <tr>\n",
       "      <th>MIROC6</th>\n",
       "      <td>0.43847</td>\n",
       "      <td>-1.395026</td>\n",
       "    </tr>\n",
       "    <tr>\n",
       "      <th>MRI-ESM2-0</th>\n",
       "      <td>0.403497</td>\n",
       "      <td>-0.922683</td>\n",
       "    </tr>\n",
       "    <tr>\n",
       "      <th>TaiESM1</th>\n",
       "      <td>0.534516</td>\n",
       "      <td>-1.236016</td>\n",
       "    </tr>\n",
       "    <tr>\n",
       "      <th>HadGEM3-GC31-LL</th>\n",
       "      <td>0.445881</td>\n",
       "      <td>-1.117238</td>\n",
       "    </tr>\n",
       "  </tbody>\n",
       "</table>\n",
       "</div>"
      ],
      "text/plain": [
       "                    2x/4x   2x/0p5x\n",
       "CESM2            0.389121 -1.277005\n",
       "CNRM-CM6-1       0.447722 -1.312226\n",
       "CanESM5          0.426856 -0.867844\n",
       "GISS-E2-1-G      0.476208 -1.049045\n",
       "GISS-E2-1-H      0.481441       NaN\n",
       "GISS-E2-2-G      0.538585       NaN\n",
       "GISS-E2-2-H      0.477807       NaN\n",
       "IPSL-CM6A-LR      0.44012 -0.995551\n",
       "MIROC6            0.43847 -1.395026\n",
       "MRI-ESM2-0       0.403497 -0.922683\n",
       "TaiESM1          0.534516 -1.236016\n",
       "HadGEM3-GC31-LL  0.445881 -1.117238"
      ]
     },
     "execution_count": 8,
     "metadata": {},
     "output_type": "execute_result"
    }
   ],
   "source": [
    "T_ratios"
   ]
  },
  {
   "cell_type": "code",
   "execution_count": 9,
   "id": "6f6eaf27-ca74-401b-93e4-28c46c2240bb",
   "metadata": {},
   "outputs": [
    {
     "data": {
      "text/html": [
       "<div>\n",
       "<style scoped>\n",
       "    .dataframe tbody tr th:only-of-type {\n",
       "        vertical-align: middle;\n",
       "    }\n",
       "\n",
       "    .dataframe tbody tr th {\n",
       "        vertical-align: top;\n",
       "    }\n",
       "\n",
       "    .dataframe thead th {\n",
       "        text-align: right;\n",
       "    }\n",
       "</style>\n",
       "<table border=\"1\" class=\"dataframe\">\n",
       "  <thead>\n",
       "    <tr style=\"text-align: right;\">\n",
       "      <th></th>\n",
       "      <th>2x/4x, 150 yr</th>\n",
       "      <th>2x/4x, all yrs</th>\n",
       "    </tr>\n",
       "  </thead>\n",
       "  <tbody>\n",
       "    <tr>\n",
       "      <th>MPIESM12</th>\n",
       "      <td>0.447669</td>\n",
       "      <td>0.446593</td>\n",
       "    </tr>\n",
       "    <tr>\n",
       "      <th>HadCM3L</th>\n",
       "      <td>0.510008</td>\n",
       "      <td>0.502311</td>\n",
       "    </tr>\n",
       "    <tr>\n",
       "      <th>FAMOUS</th>\n",
       "      <td>0.300368</td>\n",
       "      <td>0.286589</td>\n",
       "    </tr>\n",
       "    <tr>\n",
       "      <th>CNRMCM61</th>\n",
       "      <td>0.42263</td>\n",
       "      <td>0.465511</td>\n",
       "    </tr>\n",
       "    <tr>\n",
       "      <th>CESM104</th>\n",
       "      <td>0.46328</td>\n",
       "      <td>0.473615</td>\n",
       "    </tr>\n",
       "    <tr>\n",
       "      <th>CCSM3</th>\n",
       "      <td>0.463001</td>\n",
       "      <td>0.467479</td>\n",
       "    </tr>\n",
       "  </tbody>\n",
       "</table>\n",
       "</div>"
      ],
      "text/plain": [
       "         2x/4x, 150 yr 2x/4x, all yrs\n",
       "MPIESM12      0.447669       0.446593\n",
       "HadCM3L       0.510008       0.502311\n",
       "FAMOUS        0.300368       0.286589\n",
       "CNRMCM61       0.42263       0.465511\n",
       "CESM104        0.46328       0.473615\n",
       "CCSM3         0.463001       0.467479"
      ]
     },
     "execution_count": 9,
     "metadata": {},
     "output_type": "execute_result"
    }
   ],
   "source": [
    "T_ratios_longrunmip"
   ]
  },
  {
   "cell_type": "code",
   "execution_count": 10,
   "id": "39390df6-73d0-4119-abe0-0a1ed3979300",
   "metadata": {},
   "outputs": [
    {
     "data": {
      "text/plain": [
       "Index(['CESM2', 'CNRM-CM6-1', 'CanESM5', 'GISS-E2-1-G', 'GISS-E2-1-H',\n",
       "       'GISS-E2-2-G', 'GISS-E2-2-H', 'IPSL-CM6A-LR', 'MIROC6', 'MRI-ESM2-0',\n",
       "       'TaiESM1', 'HadGEM3-GC31-LL'],\n",
       "      dtype='object')"
      ]
     },
     "execution_count": 10,
     "metadata": {},
     "output_type": "execute_result"
    }
   ],
   "source": [
    "T_ratios.index"
   ]
  },
  {
   "cell_type": "code",
   "execution_count": 11,
   "id": "c203aeee-3118-44f4-bc18-4a7e836aa447",
   "metadata": {},
   "outputs": [
    {
     "name": "stdout",
     "output_type": "stream",
     "text": [
      "2.201455311260724\n",
      "1.1034442534196847\n",
      "-0.9066541331891678\n",
      "1.0166291140064583\n"
     ]
    }
   ],
   "source": [
    "cmip6table = pd.DataFrame([], index = list(T_ratios.index) + ['Mean'], columns = ['T$_{4x}$/T$_{2x}$', '(T$_{4x}$/T$_{2x}$) / (F$_{4x}$/F$_{2x}$)', 'T$_{0p5x}$/T$_{2x}$', '(T$_{0p5x}$/T$_{2x}$) / (F$_{0p5x}$/F$_{2x}$)'])\n",
    "\n",
    "for model in T_ratios.index:\n",
    "    cmip6table.loc[model]['T$_{4x}$/T$_{2x}$'] = 1/T_ratios.loc[model]['2x/4x']\n",
    "    cmip6table.loc[model]['(T$_{4x}$/T$_{2x}$) / (F$_{4x}$/F$_{2x}$)'] = erf_ratios_4x_df.loc[model]/T_ratios.loc[model]['2x/4x']\n",
    "    cmip6table.loc[model]['T$_{0p5x}$/T$_{2x}$'] = 1/T_ratios.loc[model]['2x/0p5x']\n",
    "    if T_ratios.loc[model]['2x/0p5x'] is not np.nan:\n",
    "        cmip6table.loc[model]['(T$_{0p5x}$/T$_{2x}$) / (F$_{0p5x}$/F$_{2x}$)'] = erf_ratios_0p5x_df.loc[model]/T_ratios.loc[model]['2x/0p5x']\n",
    "\n",
    "        \n",
    "for col in cmip6table.columns:\n",
    "    cmip6table.loc['Mean'][col] = cmip6table[col].mean()\n",
    "    print(cmip6table[col].mean())"
   ]
  },
  {
   "cell_type": "code",
   "execution_count": 12,
   "id": "e0b95702-4dc2-440b-8a09-9663ec6153b4",
   "metadata": {},
   "outputs": [
    {
     "data": {
      "text/html": [
       "<div>\n",
       "<style scoped>\n",
       "    .dataframe tbody tr th:only-of-type {\n",
       "        vertical-align: middle;\n",
       "    }\n",
       "\n",
       "    .dataframe tbody tr th {\n",
       "        vertical-align: top;\n",
       "    }\n",
       "\n",
       "    .dataframe thead th {\n",
       "        text-align: right;\n",
       "    }\n",
       "</style>\n",
       "<table border=\"1\" class=\"dataframe\">\n",
       "  <thead>\n",
       "    <tr style=\"text-align: right;\">\n",
       "      <th></th>\n",
       "      <th>T$_{4x}$/T$_{2x}$</th>\n",
       "      <th>(T$_{4x}$/T$_{2x}$) / (F$_{4x}$/F$_{2x}$)</th>\n",
       "      <th>T$_{0p5x}$/T$_{2x}$</th>\n",
       "      <th>(T$_{0p5x}$/T$_{2x}$) / (F$_{0p5x}$/F$_{2x}$)</th>\n",
       "    </tr>\n",
       "  </thead>\n",
       "  <tbody>\n",
       "    <tr>\n",
       "      <th>CESM2</th>\n",
       "      <td>2.569898</td>\n",
       "      <td>1.366875</td>\n",
       "      <td>-0.783082</td>\n",
       "      <td>0.845402</td>\n",
       "    </tr>\n",
       "    <tr>\n",
       "      <th>CNRM-CM6-1</th>\n",
       "      <td>2.233529</td>\n",
       "      <td>1.147009</td>\n",
       "      <td>-0.762064</td>\n",
       "      <td>0.879954</td>\n",
       "    </tr>\n",
       "    <tr>\n",
       "      <th>CanESM5</th>\n",
       "      <td>2.342708</td>\n",
       "      <td>1.139155</td>\n",
       "      <td>-1.15228</td>\n",
       "      <td>1.268955</td>\n",
       "    </tr>\n",
       "    <tr>\n",
       "      <th>GISS-E2-1-G</th>\n",
       "      <td>2.099924</td>\n",
       "      <td>1.024957</td>\n",
       "      <td>-0.953248</td>\n",
       "      <td>0.963392</td>\n",
       "    </tr>\n",
       "    <tr>\n",
       "      <th>GISS-E2-1-H</th>\n",
       "      <td>2.077096</td>\n",
       "      <td>1.045967</td>\n",
       "      <td>NaN</td>\n",
       "      <td>NaN</td>\n",
       "    </tr>\n",
       "    <tr>\n",
       "      <th>GISS-E2-2-G</th>\n",
       "      <td>1.856716</td>\n",
       "      <td>1.01207</td>\n",
       "      <td>NaN</td>\n",
       "      <td>NaN</td>\n",
       "    </tr>\n",
       "    <tr>\n",
       "      <th>GISS-E2-2-H</th>\n",
       "      <td>2.092894</td>\n",
       "      <td>1.009449</td>\n",
       "      <td>NaN</td>\n",
       "      <td>NaN</td>\n",
       "    </tr>\n",
       "    <tr>\n",
       "      <th>IPSL-CM6A-LR</th>\n",
       "      <td>2.272107</td>\n",
       "      <td>1.261595</td>\n",
       "      <td>-1.004469</td>\n",
       "      <td>1.411725</td>\n",
       "    </tr>\n",
       "    <tr>\n",
       "      <th>MIROC6</th>\n",
       "      <td>2.280657</td>\n",
       "      <td>1.050526</td>\n",
       "      <td>-0.716832</td>\n",
       "      <td>0.83824</td>\n",
       "    </tr>\n",
       "    <tr>\n",
       "      <th>MRI-ESM2-0</th>\n",
       "      <td>2.478331</td>\n",
       "      <td>1.18358</td>\n",
       "      <td>-1.083796</td>\n",
       "      <td>0.980489</td>\n",
       "    </tr>\n",
       "    <tr>\n",
       "      <th>TaiESM1</th>\n",
       "      <td>1.87085</td>\n",
       "      <td>0.945251</td>\n",
       "      <td>-0.809051</td>\n",
       "      <td>1.058978</td>\n",
       "    </tr>\n",
       "    <tr>\n",
       "      <th>HadGEM3-GC31-LL</th>\n",
       "      <td>2.242753</td>\n",
       "      <td>1.054897</td>\n",
       "      <td>-0.895064</td>\n",
       "      <td>0.902526</td>\n",
       "    </tr>\n",
       "    <tr>\n",
       "      <th>Mean</th>\n",
       "      <td>2.201455</td>\n",
       "      <td>1.103444</td>\n",
       "      <td>-0.906654</td>\n",
       "      <td>1.016629</td>\n",
       "    </tr>\n",
       "  </tbody>\n",
       "</table>\n",
       "</div>"
      ],
      "text/plain": [
       "                T$_{4x}$/T$_{2x}$ (T$_{4x}$/T$_{2x}$) / (F$_{4x}$/F$_{2x}$)  \\\n",
       "CESM2                    2.569898                                  1.366875   \n",
       "CNRM-CM6-1               2.233529                                  1.147009   \n",
       "CanESM5                  2.342708                                  1.139155   \n",
       "GISS-E2-1-G              2.099924                                  1.024957   \n",
       "GISS-E2-1-H              2.077096                                  1.045967   \n",
       "GISS-E2-2-G              1.856716                                   1.01207   \n",
       "GISS-E2-2-H              2.092894                                  1.009449   \n",
       "IPSL-CM6A-LR             2.272107                                  1.261595   \n",
       "MIROC6                   2.280657                                  1.050526   \n",
       "MRI-ESM2-0               2.478331                                   1.18358   \n",
       "TaiESM1                   1.87085                                  0.945251   \n",
       "HadGEM3-GC31-LL          2.242753                                  1.054897   \n",
       "Mean                     2.201455                                  1.103444   \n",
       "\n",
       "                T$_{0p5x}$/T$_{2x}$  \\\n",
       "CESM2                     -0.783082   \n",
       "CNRM-CM6-1                -0.762064   \n",
       "CanESM5                    -1.15228   \n",
       "GISS-E2-1-G               -0.953248   \n",
       "GISS-E2-1-H                     NaN   \n",
       "GISS-E2-2-G                     NaN   \n",
       "GISS-E2-2-H                     NaN   \n",
       "IPSL-CM6A-LR              -1.004469   \n",
       "MIROC6                    -0.716832   \n",
       "MRI-ESM2-0                -1.083796   \n",
       "TaiESM1                   -0.809051   \n",
       "HadGEM3-GC31-LL           -0.895064   \n",
       "Mean                      -0.906654   \n",
       "\n",
       "                (T$_{0p5x}$/T$_{2x}$) / (F$_{0p5x}$/F$_{2x}$)  \n",
       "CESM2                                                0.845402  \n",
       "CNRM-CM6-1                                           0.879954  \n",
       "CanESM5                                              1.268955  \n",
       "GISS-E2-1-G                                          0.963392  \n",
       "GISS-E2-1-H                                               NaN  \n",
       "GISS-E2-2-G                                               NaN  \n",
       "GISS-E2-2-H                                               NaN  \n",
       "IPSL-CM6A-LR                                         1.411725  \n",
       "MIROC6                                                0.83824  \n",
       "MRI-ESM2-0                                           0.980489  \n",
       "TaiESM1                                              1.058978  \n",
       "HadGEM3-GC31-LL                                      0.902526  \n",
       "Mean                                                 1.016629  "
      ]
     },
     "execution_count": 12,
     "metadata": {},
     "output_type": "execute_result"
    }
   ],
   "source": [
    "cmip6table"
   ]
  },
  {
   "cell_type": "code",
   "execution_count": 13,
   "id": "d37b9b04-f16e-4663-9c4b-0c94f5b84327",
   "metadata": {},
   "outputs": [
    {
     "name": "stdout",
     "output_type": "stream",
     "text": [
      "\\begin{tabular}{lcccc}\n",
      "\\hline\n",
      " & T$_{4x}$/T$_{2x}$ & (T$_{4x}$/T$_{2x}$) / (F$_{4x}$/F$_{2x}$) & T$_{0p5x}$/T$_{2x}$ & (T$_{0p5x}$/T$_{2x}$) / (F$_{0p5x}$/F$_{2x}$) \\\\\n",
      "\\hline\n",
      "CESM2 & 2.57 & 1.37 & -0.78 & 0.85 \\\\\n",
      "CNRM-CM6-1 & 2.23 & 1.15 & -0.76 & 0.88 \\\\\n",
      "CanESM5 & 2.34 & 1.14 & -1.15 & 1.27 \\\\\n",
      "GISS-E2-1-G & 2.10 & 1.02 & -0.95 & 0.96 \\\\\n",
      "GISS-E2-1-H & 2.08 & 1.05 & nan & nan \\\\\n",
      "GISS-E2-2-G & 1.86 & 1.01 & nan & nan \\\\\n",
      "GISS-E2-2-H & 2.09 & 1.01 & nan & nan \\\\\n",
      "IPSL-CM6A-LR & 2.27 & 1.26 & -1.00 & 1.41 \\\\\n",
      "MIROC6 & 2.28 & 1.05 & -0.72 & 0.84 \\\\\n",
      "MRI-ESM2-0 & 2.48 & 1.18 & -1.08 & 0.98 \\\\\n",
      "TaiESM1 & 1.87 & 0.95 & -0.81 & 1.06 \\\\\n",
      "HadGEM3-GC31-LL & 2.24 & 1.05 & -0.90 & 0.90 \\\\\n",
      "Mean & 2.20 & 1.10 & -0.91 & 1.02 \\\\\n",
      "\\hline\n",
      "\\end{tabular}\n",
      "\n"
     ]
    }
   ],
   "source": [
    "s = cmip6table.style.format(precision=2)\n",
    "s.set_table_styles([\n",
    "        {'selector': 'toprule', 'props': ':hline;'},\n",
    "        {'selector': 'midrule', 'props': ':hline;'},\n",
    "        {'selector': 'bottomrule', 'props': ':hline;'}])\n",
    "print(s.to_latex(column_format= 'lcccc'))"
   ]
  },
  {
   "cell_type": "code",
   "execution_count": 16,
   "id": "292319ca-a2dd-4b31-8541-78903dfa1577",
   "metadata": {},
   "outputs": [
    {
     "name": "stdout",
     "output_type": "stream",
     "text": [
      "2.207846458301106\n",
      "1.0327867829005433\n"
     ]
    },
    {
     "data": {
      "text/html": [
       "<div>\n",
       "<style scoped>\n",
       "    .dataframe tbody tr th:only-of-type {\n",
       "        vertical-align: middle;\n",
       "    }\n",
       "\n",
       "    .dataframe tbody tr th {\n",
       "        vertical-align: top;\n",
       "    }\n",
       "\n",
       "    .dataframe thead th {\n",
       "        text-align: right;\n",
       "    }\n",
       "</style>\n",
       "<table border=\"1\" class=\"dataframe\">\n",
       "  <thead>\n",
       "    <tr style=\"text-align: right;\">\n",
       "      <th></th>\n",
       "      <th>T$_{4x}$/T$_{2x}$</th>\n",
       "      <th>(T$_{4x}$/T$_{2x}$) / (F$_{4x}$/F$_{2x}$)</th>\n",
       "    </tr>\n",
       "  </thead>\n",
       "  <tbody>\n",
       "    <tr>\n",
       "      <th>MPIESM12</th>\n",
       "      <td>2.233796</td>\n",
       "      <td>1.004959</td>\n",
       "    </tr>\n",
       "    <tr>\n",
       "      <th>HadCM3L</th>\n",
       "      <td>1.960755</td>\n",
       "      <td>0.938306</td>\n",
       "    </tr>\n",
       "    <tr>\n",
       "      <th>FAMOUS</th>\n",
       "      <td>3.32925</td>\n",
       "      <td>2.142433</td>\n",
       "    </tr>\n",
       "    <tr>\n",
       "      <th>CNRMCM61</th>\n",
       "      <td>2.366135</td>\n",
       "      <td>1.169215</td>\n",
       "    </tr>\n",
       "    <tr>\n",
       "      <th>CESM104</th>\n",
       "      <td>2.158521</td>\n",
       "      <td>0.912636</td>\n",
       "    </tr>\n",
       "    <tr>\n",
       "      <th>CCSM3</th>\n",
       "      <td>2.159825</td>\n",
       "      <td>0.980298</td>\n",
       "    </tr>\n",
       "    <tr>\n",
       "      <th>Mean</th>\n",
       "      <td>2.368047</td>\n",
       "      <td>1.191308</td>\n",
       "    </tr>\n",
       "  </tbody>\n",
       "</table>\n",
       "</div>"
      ],
      "text/plain": [
       "         T$_{4x}$/T$_{2x}$ (T$_{4x}$/T$_{2x}$) / (F$_{4x}$/F$_{2x}$)\n",
       "MPIESM12          2.233796                                  1.004959\n",
       "HadCM3L           1.960755                                  0.938306\n",
       "FAMOUS             3.32925                                  2.142433\n",
       "CNRMCM61          2.366135                                  1.169215\n",
       "CESM104           2.158521                                  0.912636\n",
       "CCSM3             2.159825                                  0.980298\n",
       "Mean              2.368047                                  1.191308"
      ]
     },
     "execution_count": 16,
     "metadata": {},
     "output_type": "execute_result"
    }
   ],
   "source": [
    "longrunmiptable = pd.DataFrame([], index = list(T_ratios_longrunmip.index) + ['Mean'], columns = ['T$_{4x}$/T$_{2x}$', '(T$_{4x}$/T$_{2x}$) / (F$_{4x}$/F$_{2x}$)'])\n",
    "\n",
    "for model in T_ratios_longrunmip.index:\n",
    "    longrunmiptable.loc[model]['T$_{4x}$/T$_{2x}$'] = 1/T_ratios_longrunmip.loc[model]['2x/4x, 150 yr']\n",
    "    longrunmiptable.loc[model]['(T$_{4x}$/T$_{2x}$) / (F$_{4x}$/F$_{2x}$)'] = erf_ratios_4x_longrunmip_df.loc[model]/T_ratios_longrunmip.loc[model]['2x/4x, 150 yr']\n",
    "        \n",
    "for col in longrunmiptable.columns:\n",
    "    longrunmiptable.loc['Mean'][col] = longrunmiptable[col].mean()\n",
    "    #longrunmiptable.loc['Mean'][col] = longrunmiptable[col].drop('FAMOUS').mean()\n",
    "    print(longrunmiptable[col].drop('FAMOUS').mean())\n",
    "    \n",
    "longrunmiptable"
   ]
  },
  {
   "cell_type": "code",
   "execution_count": 15,
   "id": "50f21241-4f21-48a6-8f34-f5494ecf638d",
   "metadata": {},
   "outputs": [
    {
     "name": "stdout",
     "output_type": "stream",
     "text": [
      "\\begin{tabular}{lcc}\n",
      "\\hline\n",
      " & T$_{4x}$/T$_{2x}$ & (T$_{4x}$/T$_{2x}$) / (F$_{4x}$/F$_{2x}$) \\\\\n",
      "\\hline\n",
      "MPIESM12 & 2.23 & 1.00 \\\\\n",
      "HadCM3L & 1.96 & 0.94 \\\\\n",
      "FAMOUS & 3.33 & 2.14 \\\\\n",
      "CNRMCM61 & 2.37 & 1.17 \\\\\n",
      "CESM104 & 2.16 & 0.91 \\\\\n",
      "CCSM3 & 2.16 & 0.98 \\\\\n",
      "Mean & 2.18 & 1.00 \\\\\n",
      "\\hline\n",
      "\\end{tabular}\n",
      "\n"
     ]
    }
   ],
   "source": [
    "s2 = longrunmiptable.style.format(precision=2)\n",
    "s2.set_table_styles([\n",
    "        {'selector': 'toprule', 'props': ':hline;'},\n",
    "        {'selector': 'midrule', 'props': ':hline;'},\n",
    "        {'selector': 'bottomrule', 'props': ':hline;'}])\n",
    "print(s2.to_latex(column_format= 'lcc'))"
   ]
  },
  {
   "cell_type": "code",
   "execution_count": 89,
   "id": "477f159c-3fda-4fa5-8c32-6af70a6b777e",
   "metadata": {},
   "outputs": [
    {
     "name": "stdout",
     "output_type": "stream",
     "text": [
      "2.125740365759711\n",
      "0.9770400369864539\n"
     ]
    },
    {
     "data": {
      "text/html": [
       "<div>\n",
       "<style scoped>\n",
       "    .dataframe tbody tr th:only-of-type {\n",
       "        vertical-align: middle;\n",
       "    }\n",
       "\n",
       "    .dataframe tbody tr th {\n",
       "        vertical-align: top;\n",
       "    }\n",
       "\n",
       "    .dataframe thead th {\n",
       "        text-align: right;\n",
       "    }\n",
       "</style>\n",
       "<table border=\"1\" class=\"dataframe\">\n",
       "  <thead>\n",
       "    <tr style=\"text-align: right;\">\n",
       "      <th></th>\n",
       "      <th>T$_{4x}$/T$_{2x}$</th>\n",
       "      <th>(T$_{4x}$/T$_{2x}$) / (F$_{4x}$/F$_{2x}$)</th>\n",
       "    </tr>\n",
       "  </thead>\n",
       "  <tbody>\n",
       "    <tr>\n",
       "      <th>MPIESM12</th>\n",
       "      <td>2.239173</td>\n",
       "      <td>1.007378</td>\n",
       "    </tr>\n",
       "    <tr>\n",
       "      <th>HadCM3L</th>\n",
       "      <td>1.990797</td>\n",
       "      <td>0.952682</td>\n",
       "    </tr>\n",
       "    <tr>\n",
       "      <th>FAMOUS</th>\n",
       "      <td>3.489323</td>\n",
       "      <td>2.245443</td>\n",
       "    </tr>\n",
       "    <tr>\n",
       "      <th>CNRMCM61</th>\n",
       "      <td>2.148178</td>\n",
       "      <td>1.061513</td>\n",
       "    </tr>\n",
       "    <tr>\n",
       "      <th>CESM104</th>\n",
       "      <td>2.111421</td>\n",
       "      <td>0.892721</td>\n",
       "    </tr>\n",
       "    <tr>\n",
       "      <th>CCSM3</th>\n",
       "      <td>2.139134</td>\n",
       "      <td>0.970907</td>\n",
       "    </tr>\n",
       "    <tr>\n",
       "      <th>Mean</th>\n",
       "      <td>2.12574</td>\n",
       "      <td>0.97704</td>\n",
       "    </tr>\n",
       "  </tbody>\n",
       "</table>\n",
       "</div>"
      ],
      "text/plain": [
       "         T$_{4x}$/T$_{2x}$ (T$_{4x}$/T$_{2x}$) / (F$_{4x}$/F$_{2x}$)\n",
       "MPIESM12          2.239173                                  1.007378\n",
       "HadCM3L           1.990797                                  0.952682\n",
       "FAMOUS            3.489323                                  2.245443\n",
       "CNRMCM61          2.148178                                  1.061513\n",
       "CESM104           2.111421                                  0.892721\n",
       "CCSM3             2.139134                                  0.970907\n",
       "Mean               2.12574                                   0.97704"
      ]
     },
     "execution_count": 89,
     "metadata": {},
     "output_type": "execute_result"
    }
   ],
   "source": [
    "longrunmiptable = pd.DataFrame([], index = list(T_ratios_longrunmip.index) + ['Mean'], columns = ['T$_{4x}$/T$_{2x}$', '(T$_{4x}$/T$_{2x}$) / (F$_{4x}$/F$_{2x}$)'])\n",
    "\n",
    "for model in T_ratios_longrunmip.index:\n",
    "    longrunmiptable.loc[model]['T$_{4x}$/T$_{2x}$'] = 1/T_ratios_longrunmip.loc[model]['2x/4x, all yrs']\n",
    "    longrunmiptable.loc[model]['(T$_{4x}$/T$_{2x}$) / (F$_{4x}$/F$_{2x}$)'] = erf_ratios_4x_longrunmip_df.loc[model]/T_ratios_longrunmip.loc[model]['2x/4x, all yrs']\n",
    "        \n",
    "for col in longrunmiptable.columns:\n",
    "    longrunmiptable.loc['Mean'][col] = longrunmiptable[col].drop('FAMOUS').mean()\n",
    "    print(longrunmiptable[col].drop('FAMOUS').mean())\n",
    "    \n",
    "longrunmiptable"
   ]
  },
  {
   "cell_type": "code",
   "execution_count": 87,
   "id": "e3fd5d51-cae6-4308-933a-d7f997acc87a",
   "metadata": {},
   "outputs": [
    {
     "name": "stdout",
     "output_type": "stream",
     "text": [
      "\\begin{tabular}{lcc}\n",
      "\\hline\n",
      " & T$_{4x}$/T$_{2x}$ & (T$_{4x}$/T$_{2x}$) / (F$_{4x}$/F$_{2x}$) \\\\\n",
      "\\hline\n",
      "MPIESM12 & 2.24 & 1.01 \\\\\n",
      "HadCM3L & 1.99 & 0.95 \\\\\n",
      "FAMOUS & 3.49 & 2.25 \\\\\n",
      "CNRMCM61 & 2.15 & 1.06 \\\\\n",
      "CESM104 & 2.11 & 0.89 \\\\\n",
      "CCSM3 & 2.14 & 0.97 \\\\\n",
      "Mean & 2.13 & 0.98 \\\\\n",
      "\\hline\n",
      "\\end{tabular}\n",
      "\n"
     ]
    }
   ],
   "source": [
    "s2 = longrunmiptable.style.format(precision=2)\n",
    "s2.set_table_styles([\n",
    "        {'selector': 'toprule', 'props': ':hline;'},\n",
    "        {'selector': 'midrule', 'props': ':hline;'},\n",
    "        {'selector': 'bottomrule', 'props': ':hline;'}])\n",
    "print(s2.to_latex(column_format= 'lcc'))"
   ]
  },
  {
   "cell_type": "code",
   "execution_count": null,
   "id": "fef25f7e-17ac-4c04-a27c-abfba4b9c68c",
   "metadata": {},
   "outputs": [],
   "source": []
  }
 ],
 "metadata": {
  "kernelspec": {
   "display_name": "CMIP6analysis",
   "language": "python",
   "name": "cmip6analysis"
  },
  "language_info": {
   "codemirror_mode": {
    "name": "ipython",
    "version": 3
   },
   "file_extension": ".py",
   "mimetype": "text/x-python",
   "name": "python",
   "nbconvert_exporter": "python",
   "pygments_lexer": "ipython3",
   "version": "3.8.12"
  }
 },
 "nbformat": 4,
 "nbformat_minor": 5
}
