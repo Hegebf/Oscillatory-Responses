{
 "cells": [
  {
   "cell_type": "markdown",
   "id": "3c668231-852b-46f3-83bd-cf2d9022c315",
   "metadata": {},
   "source": [
    "# Forcing ratios calculated using Gregory regression"
   ]
  },
  {
   "cell_type": "code",
   "execution_count": 1,
   "id": "65f4bfa4-e61a-442d-8fda-4fccae64a2e2",
   "metadata": {},
   "outputs": [],
   "source": [
    "import os\n",
    "import numpy as np\n",
    "import pandas as pd\n",
    "import matplotlib.pyplot as plt\n",
    "from estimation import *\n",
    "import xarray as xr"
   ]
  },
  {
   "cell_type": "code",
   "execution_count": 2,
   "id": "09128f96-8dc4-43ac-b3d1-8e00251a0dc6",
   "metadata": {},
   "outputs": [],
   "source": [
    "directory = '../longrunmip_data/'\n",
    "#all_models = ['MPIESM12', 'MIROC32', 'IPSLCM5A', 'HadGEM2', 'HadCM3L', 'GISSE2R', 'GFDLESM2M', 'GFDLCM3', 'FAMOUS', 'ECHAM5MPIOM', 'ECEARTH', 'CNRMCM61', 'CESM104', 'CCSM3']\n",
    "\n",
    "file_list = [ f.name for f in os.scandir(directory) if f.is_file()]\n",
    "file_list_namesplits = [file.rsplit(\"_\") for file in file_list]\n",
    "file_list_namesplits[:10]\n",
    "files_model_names = [file_list_namesplits[k][1] for k in range(len(file_list_namesplits))]\n",
    "\n",
    "experiments = {'MPIESM12': ['abrupt2x', 'abrupt4x', 'abrupt8x', 'abrupt16x'],\n",
    "               'HadCM3L': ['abrupt2x', 'abrupt4x', 'abrupt6x', 'abrupt8x'],\n",
    "               'FAMOUS': ['abrupt2x', 'abrupt4x'],\n",
    "               'CNRMCM61': ['abrupt2x', 'abrupt4x'], #but this may be a duplicate of the CMIP6 runs?\n",
    "               'CESM104': ['abrupt2x', 'abrupt4x', 'abrupt8x'],\n",
    "               'CCSM3': ['abrupt2x', 'abrupt4x', 'abrupt8x']\n",
    "              }\n",
    "\n",
    "model_list = list(experiments.keys())"
   ]
  },
  {
   "cell_type": "code",
   "execution_count": 3,
   "id": "b990dd0d-352e-419a-9bd3-7604d24128a1",
   "metadata": {},
   "outputs": [
    {
     "data": {
      "text/plain": [
       "['MPIESM12', 'HadCM3L', 'FAMOUS', 'CNRMCM61', 'CESM104', 'CCSM3']"
      ]
     },
     "execution_count": 3,
     "metadata": {},
     "output_type": "execute_result"
    }
   ],
   "source": [
    "list(experiments.keys())"
   ]
  },
  {
   "cell_type": "markdown",
   "id": "f85bde47-a59d-47ae-b98e-8cf9b4e73754",
   "metadata": {},
   "source": [
    "# Studying 6 models with abrupt-2xCO2"
   ]
  },
  {
   "cell_type": "code",
   "execution_count": 4,
   "id": "d515c657-db8f-4c78-ba52-0df6bfb5d5c2",
   "metadata": {},
   "outputs": [],
   "source": [
    "reglengths = [5, 10, 20, 30]\n",
    "forcing_ratio_df = pd.DataFrame([],index = model_list + ['Ensemble mean','Mean of model results'], columns = reglengths + ['Mean'])"
   ]
  },
  {
   "cell_type": "code",
   "execution_count": 5,
   "id": "5b0b3cc2-cf50-4569-8a29-aaa87f1a27d0",
   "metadata": {},
   "outputs": [
    {
     "data": {
      "text/html": [
       "<div>\n",
       "<style scoped>\n",
       "    .dataframe tbody tr th:only-of-type {\n",
       "        vertical-align: middle;\n",
       "    }\n",
       "\n",
       "    .dataframe tbody tr th {\n",
       "        vertical-align: top;\n",
       "    }\n",
       "\n",
       "    .dataframe thead th {\n",
       "        text-align: right;\n",
       "    }\n",
       "</style>\n",
       "<table border=\"1\" class=\"dataframe\">\n",
       "  <thead>\n",
       "    <tr style=\"text-align: right;\">\n",
       "      <th></th>\n",
       "      <th>5</th>\n",
       "      <th>10</th>\n",
       "      <th>20</th>\n",
       "      <th>30</th>\n",
       "      <th>Mean</th>\n",
       "    </tr>\n",
       "  </thead>\n",
       "  <tbody>\n",
       "    <tr>\n",
       "      <th>MPIESM12</th>\n",
       "      <td>NaN</td>\n",
       "      <td>NaN</td>\n",
       "      <td>NaN</td>\n",
       "      <td>NaN</td>\n",
       "      <td>NaN</td>\n",
       "    </tr>\n",
       "    <tr>\n",
       "      <th>HadCM3L</th>\n",
       "      <td>NaN</td>\n",
       "      <td>NaN</td>\n",
       "      <td>NaN</td>\n",
       "      <td>NaN</td>\n",
       "      <td>NaN</td>\n",
       "    </tr>\n",
       "    <tr>\n",
       "      <th>FAMOUS</th>\n",
       "      <td>NaN</td>\n",
       "      <td>NaN</td>\n",
       "      <td>NaN</td>\n",
       "      <td>NaN</td>\n",
       "      <td>NaN</td>\n",
       "    </tr>\n",
       "    <tr>\n",
       "      <th>CNRMCM61</th>\n",
       "      <td>NaN</td>\n",
       "      <td>NaN</td>\n",
       "      <td>NaN</td>\n",
       "      <td>NaN</td>\n",
       "      <td>NaN</td>\n",
       "    </tr>\n",
       "    <tr>\n",
       "      <th>CESM104</th>\n",
       "      <td>NaN</td>\n",
       "      <td>NaN</td>\n",
       "      <td>NaN</td>\n",
       "      <td>NaN</td>\n",
       "      <td>NaN</td>\n",
       "    </tr>\n",
       "    <tr>\n",
       "      <th>CCSM3</th>\n",
       "      <td>NaN</td>\n",
       "      <td>NaN</td>\n",
       "      <td>NaN</td>\n",
       "      <td>NaN</td>\n",
       "      <td>NaN</td>\n",
       "    </tr>\n",
       "    <tr>\n",
       "      <th>Ensemble mean</th>\n",
       "      <td>NaN</td>\n",
       "      <td>NaN</td>\n",
       "      <td>NaN</td>\n",
       "      <td>NaN</td>\n",
       "      <td>NaN</td>\n",
       "    </tr>\n",
       "    <tr>\n",
       "      <th>Mean of model results</th>\n",
       "      <td>NaN</td>\n",
       "      <td>NaN</td>\n",
       "      <td>NaN</td>\n",
       "      <td>NaN</td>\n",
       "      <td>NaN</td>\n",
       "    </tr>\n",
       "  </tbody>\n",
       "</table>\n",
       "</div>"
      ],
      "text/plain": [
       "                         5   10   20   30 Mean\n",
       "MPIESM12               NaN  NaN  NaN  NaN  NaN\n",
       "HadCM3L                NaN  NaN  NaN  NaN  NaN\n",
       "FAMOUS                 NaN  NaN  NaN  NaN  NaN\n",
       "CNRMCM61               NaN  NaN  NaN  NaN  NaN\n",
       "CESM104                NaN  NaN  NaN  NaN  NaN\n",
       "CCSM3                  NaN  NaN  NaN  NaN  NaN\n",
       "Ensemble mean          NaN  NaN  NaN  NaN  NaN\n",
       "Mean of model results  NaN  NaN  NaN  NaN  NaN"
      ]
     },
     "execution_count": 5,
     "metadata": {},
     "output_type": "execute_result"
    }
   ],
   "source": [
    "forcing_ratio_df"
   ]
  },
  {
   "cell_type": "code",
   "execution_count": 6,
   "id": "b81fa88a-993f-49b5-8e1e-c1509d98beaa",
   "metadata": {},
   "outputs": [],
   "source": [
    "def load_longrunmip_data(model, exp = 'abrupt2x', length_restriction = None):\n",
    "    directory = '../longrunmip_data/'\n",
    "    file_list = [ f.name for f in os.scandir(directory) if f.is_file()]\n",
    "    file_list_namesplits = [file.rsplit(\"_\") for file in file_list]\n",
    "    files_model_names = [file_list_namesplits[k][1] for k in range(len(file_list_namesplits))]\n",
    "    \n",
    "    model_index = [i for i,x in enumerate(files_model_names) if x==model]\n",
    "    model_files = [file_list[model_index[k]] for k in range(len(model_index))]\n",
    "    model_exp_files = [file_list[model_index[k]] for k in range(len(model_index)) if file_list_namesplits[model_index[k]][2] == exp]\n",
    "    model_exp_files.sort() # make sure tas is the last file\n",
    "\n",
    "    ds_tas = xr.open_dataset(directory + model_exp_files[-1])\n",
    "    ds_toarad = xr.open_mfdataset(directory + model_exp_files[0])\n",
    "    deltaT = ds_tas.tas.values\n",
    "    toarad = ds_toarad['netTOA'].values\n",
    "    if length_restriction != None:\n",
    "        deltaT = deltaT[:length_restriction]\n",
    "        toarad = toarad[:length_restriction]\n",
    "    return [deltaT, toarad]"
   ]
  },
  {
   "cell_type": "code",
   "execution_count": 7,
   "id": "6cbae888-c3d1-4413-b59f-3939f09bf3a6",
   "metadata": {},
   "outputs": [],
   "source": [
    "tas, toarad = load_longrunmip_data('MPIESM12', length_restriction = 150)"
   ]
  },
  {
   "cell_type": "code",
   "execution_count": 8,
   "id": "ac7efd10-3aa9-4bc0-bc8d-653e0d3f0c63",
   "metadata": {},
   "outputs": [
    {
     "data": {
      "text/plain": [
       "<matplotlib.collections.PathCollection at 0x7fb5fefec190>"
      ]
     },
     "execution_count": 8,
     "metadata": {},
     "output_type": "execute_result"
    },
    {
     "data": {
      "image/png": "[encoded data removed]",
      "text/plain": [
       "<Figure size 432x288 with 1 Axes>"
      ]
     },
     "metadata": {
      "needs_background": "light"
     },
     "output_type": "display_data"
    }
   ],
   "source": [
    "plt.scatter(tas,toarad)"
   ]
  },
  {
   "cell_type": "code",
   "execution_count": 11,
   "id": "0e64e718-2b75-4926-ae17-4a1eb4e5b84e",
   "metadata": {},
   "outputs": [
    {
     "name": "stdout",
     "output_type": "stream",
     "text": [
      "\n",
      "\n",
      "mean forcing ratio when regressing 5 years is: 0.4567588393125065\n",
      "mean forcing ratio when regressing 10 years is: 0.5018375386075823\n",
      "mean forcing ratio when regressing 20 years is: 0.509862662107538\n",
      "mean forcing ratio when regressing 30 years is: 0.5270632621998239\n"
     ]
    },
    {
     "data": {
      "image/png": "[encoded data removed]",
      "text/plain": [
       "<Figure size 1080x360 with 2 Axes>"
      ]
     },
     "metadata": {
      "needs_background": "light"
     },
     "output_type": "display_data"
    }
   ],
   "source": [
    "fig, ax = plt.subplots(ncols = 2, figsize = (15,5))\n",
    "\n",
    "for (mm, model) in enumerate(model_list):    \n",
    "    # abrupt2x\n",
    "    model_tas_2x, model_toarad_2x = load_longrunmip_data(model, exp = 'abrupt2x', length_restriction = 150)\n",
    "    model_df_T_2x = pd.DataFrame(model_tas_2x, columns = [model])\n",
    "    model_df_N_2x = pd.DataFrame(model_toarad_2x, columns = [model])\n",
    "    \n",
    "    ax[0].scatter(model_tas_2x, model_toarad_2x)\n",
    "    \n",
    "    # abrupt4x\n",
    "    model_tas_4x, model_toarad_4x = load_longrunmip_data(model, exp = 'abrupt4x', length_restriction = 150)\n",
    "    model_df_T_4x = pd.DataFrame(model_tas_4x, columns = [model])\n",
    "    model_df_N_4x = pd.DataFrame(model_toarad_4x, columns = [model])\n",
    "    \n",
    "    ax[1].scatter(model_tas_4x, model_toarad_4x)\n",
    "    \n",
    "    for regyears in reglengths:\n",
    "        model_reg_2x = np.polyfit(model_tas_2x[:regyears], model_toarad_2x[:regyears], deg = 1)\n",
    "        model_reg_4x = np.polyfit(model_tas_4x[:regyears], model_toarad_4x[:regyears], deg = 1)\n",
    "        forcing_ratio = model_reg_2x[1]/model_reg_4x[1]\n",
    "        #forcing_ratio = model_reg_4x[1]/model_reg_2x[1]\n",
    "        \n",
    "        forcing_ratio_df[regyears].loc[model] = forcing_ratio\n",
    "        #if regyears == 5:\n",
    "        #    forcing_ratio_list.append(forcing_ratio)\n",
    "        #print(model, 'forcing ratio when regressing', regyears, 'years is:', forcing_ratio)\n",
    "    forcing_ratio_df.loc[model]['Mean'] = np.nanmean(forcing_ratio_df.loc[model].values)\n",
    "    \n",
    "    if mm == 0: # first model\n",
    "        df_T_2x = model_df_T_2x\n",
    "        df_N_2x = model_df_N_2x\n",
    "        df_T_4x = model_df_T_4x\n",
    "        df_N_4x = model_df_N_4x\n",
    "    else:\n",
    "        df_T_2x = pd.concat([df_T_2x, model_df_T_2x], axis = 1, ignore_index = True)\n",
    "        df_N_2x = pd.concat([df_N_2x, model_df_N_2x], axis = 1, ignore_index = True)\n",
    "        df_T_4x = pd.concat([df_T_4x, model_df_T_4x], axis = 1, ignore_index = True)\n",
    "        df_N_4x = pd.concat([df_N_4x, model_df_N_4x], axis = 1, ignore_index = True)\n",
    "        \n",
    "model_mean_T_2x = df_T_2x.mean(axis=1)\n",
    "model_mean_N_2x = df_N_2x.mean(axis=1)\n",
    "ax[0].scatter(model_mean_T_2x, model_mean_N_2x, marker = 'x', color = 'black', s = 200)\n",
    "model_mean_T_4x = df_T_4x.mean(axis=1)\n",
    "model_mean_N_4x = df_N_4x.mean(axis=1)\n",
    "ax[1].scatter(model_mean_T_4x, model_mean_N_4x, marker = 'x', color = 'black', s = 200)\n",
    "\n",
    "\n",
    "\n",
    "print('\\n')\n",
    "for regyears in [5, 10, 20, 30]:\n",
    "\n",
    "    reg_2x = np.polyfit(model_mean_T_2x[:regyears], model_mean_N_2x[:regyears], deg = 1)\n",
    "    T_incl0 = np.concatenate([[0], model_mean_T_2x[:regyears].values])\n",
    "    linfit_2x = np.polyval(reg_2x, T_incl0)\n",
    "    ax[0].plot(T_incl0, linfit_2x, color = 'black', linewidth = 2)\n",
    "\n",
    "    reg_4x = np.polyfit(model_mean_T_4x[:regyears], model_mean_N_4x[:regyears], deg = 1)\n",
    "    T_incl0 = np.concatenate([[0], model_mean_T_4x[:regyears].values])\n",
    "    linfit_4x = np.polyval(reg_4x, T_incl0)\n",
    "    ax[1].plot(T_incl0, linfit_4x, color = 'black', linewidth = 2)\n",
    "\n",
    "    print('mean forcing ratio when regressing', regyears, 'years is:', reg_2x[1]/reg_4x[1])\n",
    "    #print('mean forcing ratio when regressing', regyears, 'years is:', reg_4x[1]/reg_2x[1])\n",
    "    forcing_ratio_df.loc['Ensemble mean'][regyears] = reg_2x[1]/reg_4x[1]\n",
    "forcing_ratio_df.loc['Ensemble mean']['Mean'] = np.nanmean(forcing_ratio_df.loc['Ensemble mean'].values)\n",
    "\n",
    "ax[0].set_xlim(0,4)\n",
    "ax[1].set_xlim(0,9)\n",
    "\n",
    "for col in forcing_ratio_df.columns:\n",
    "    forcing_ratio_df.loc['Mean of model results'][col] = forcing_ratio_df.loc[model_list][col].mean()\n",
    "    #forcing_ratio_df.loc['Mean of model results'][col] = forcing_ratio_df.loc[model_list][col].drop('FAMOUS').mean()\n",
    "    "
   ]
  },
  {
   "cell_type": "code",
   "execution_count": 12,
   "id": "cb63a793-4561-439c-9f8b-4509e7c7231e",
   "metadata": {},
   "outputs": [
    {
     "data": {
      "text/html": [
       "<div>\n",
       "<style scoped>\n",
       "    .dataframe tbody tr th:only-of-type {\n",
       "        vertical-align: middle;\n",
       "    }\n",
       "\n",
       "    .dataframe tbody tr th {\n",
       "        vertical-align: top;\n",
       "    }\n",
       "\n",
       "    .dataframe thead th {\n",
       "        text-align: right;\n",
       "    }\n",
       "</style>\n",
       "<table border=\"1\" class=\"dataframe\">\n",
       "  <thead>\n",
       "    <tr style=\"text-align: right;\">\n",
       "      <th></th>\n",
       "      <th>5</th>\n",
       "      <th>10</th>\n",
       "      <th>20</th>\n",
       "      <th>30</th>\n",
       "      <th>Mean</th>\n",
       "    </tr>\n",
       "  </thead>\n",
       "  <tbody>\n",
       "    <tr>\n",
       "      <th>MPIESM12</th>\n",
       "      <td>0.440713</td>\n",
       "      <td>0.447211</td>\n",
       "      <td>0.451553</td>\n",
       "      <td>0.460077</td>\n",
       "      <td>0.449888</td>\n",
       "    </tr>\n",
       "    <tr>\n",
       "      <th>HadCM3L</th>\n",
       "      <td>0.311619</td>\n",
       "      <td>0.538162</td>\n",
       "      <td>0.546384</td>\n",
       "      <td>0.518006</td>\n",
       "      <td>0.478543</td>\n",
       "    </tr>\n",
       "    <tr>\n",
       "      <th>FAMOUS</th>\n",
       "      <td>0.598411</td>\n",
       "      <td>0.647816</td>\n",
       "      <td>0.657607</td>\n",
       "      <td>0.670238</td>\n",
       "      <td>0.643518</td>\n",
       "    </tr>\n",
       "    <tr>\n",
       "      <th>CNRMCM61</th>\n",
       "      <td>0.49392</td>\n",
       "      <td>0.475968</td>\n",
       "      <td>0.484649</td>\n",
       "      <td>0.522045</td>\n",
       "      <td>0.494146</td>\n",
       "    </tr>\n",
       "    <tr>\n",
       "      <th>CESM104</th>\n",
       "      <td>0.377659</td>\n",
       "      <td>0.409692</td>\n",
       "      <td>0.449885</td>\n",
       "      <td>0.453987</td>\n",
       "      <td>0.422806</td>\n",
       "    </tr>\n",
       "    <tr>\n",
       "      <th>CCSM3</th>\n",
       "      <td>0.483946</td>\n",
       "      <td>0.488038</td>\n",
       "      <td>0.410738</td>\n",
       "      <td>0.432791</td>\n",
       "      <td>0.453878</td>\n",
       "    </tr>\n",
       "    <tr>\n",
       "      <th>Ensemble mean</th>\n",
       "      <td>0.456759</td>\n",
       "      <td>0.501838</td>\n",
       "      <td>0.509863</td>\n",
       "      <td>0.527063</td>\n",
       "      <td>0.498881</td>\n",
       "    </tr>\n",
       "    <tr>\n",
       "      <th>Mean of model results</th>\n",
       "      <td>0.451045</td>\n",
       "      <td>0.501148</td>\n",
       "      <td>0.500136</td>\n",
       "      <td>0.509524</td>\n",
       "      <td>0.490463</td>\n",
       "    </tr>\n",
       "  </tbody>\n",
       "</table>\n",
       "</div>"
      ],
      "text/plain": [
       "                              5        10        20        30      Mean\n",
       "MPIESM12               0.440713  0.447211  0.451553  0.460077  0.449888\n",
       "HadCM3L                0.311619  0.538162  0.546384  0.518006  0.478543\n",
       "FAMOUS                 0.598411  0.647816  0.657607  0.670238  0.643518\n",
       "CNRMCM61                0.49392  0.475968  0.484649  0.522045  0.494146\n",
       "CESM104                0.377659  0.409692  0.449885  0.453987  0.422806\n",
       "CCSM3                  0.483946  0.488038  0.410738  0.432791  0.453878\n",
       "Ensemble mean          0.456759  0.501838  0.509863  0.527063  0.498881\n",
       "Mean of model results  0.451045  0.501148  0.500136  0.509524  0.490463"
      ]
     },
     "execution_count": 12,
     "metadata": {},
     "output_type": "execute_result"
    }
   ],
   "source": [
    "forcing_ratio_df"
   ]
  },
  {
   "cell_type": "code",
   "execution_count": 155,
   "id": "4ebcbc0e-f22e-41d5-9a1c-f554a083a1bc",
   "metadata": {},
   "outputs": [],
   "source": [
    "f#orcing_ratio_df.to_csv('../Other_estimates/forcing_ratios_2x_to_4x_longrunmip.csv')"
   ]
  },
  {
   "cell_type": "code",
   "execution_count": 191,
   "id": "0726786f-babf-42c1-a351-24f5d88bba10",
   "metadata": {},
   "outputs": [
    {
     "data": {
      "text/plain": [
       "<AxesSubplot:>"
      ]
     },
     "execution_count": 191,
     "metadata": {},
     "output_type": "execute_result"
    },
    {
     "data": {
      "image/png": "[encoded data removed]",
      "text/plain": [
       "<Figure size 432x288 with 1 Axes>"
      ]
     },
     "metadata": {
      "needs_background": "light"
     },
     "output_type": "display_data"
    }
   ],
   "source": [
    "forcing_ratio_df['Mean'].hist()"
   ]
  },
  {
   "cell_type": "code",
   "execution_count": 192,
   "id": "638c9cf0-0482-4d0a-a741-8aa8d647ac23",
   "metadata": {},
   "outputs": [
    {
     "data": {
      "text/plain": [
       "0.4915154206580983"
      ]
     },
     "execution_count": 192,
     "metadata": {},
     "output_type": "execute_result"
    }
   ],
   "source": [
    "forcing_ratio_df['Mean'].mean()"
   ]
  },
  {
   "cell_type": "code",
   "execution_count": 193,
   "id": "94b13ec4-ba45-4874-904b-277761dc8f72",
   "metadata": {},
   "outputs": [
    {
     "name": "stdout",
     "output_type": "stream",
     "text": [
      "\\begin{tabular}{lccccc}\n",
      "\\hline\n",
      " & 5 & 10 & 20 & 30 & Mean \\\\\n",
      "\\hline\n",
      "MPIESM12 & 0.44 & 0.45 & 0.45 & 0.46 & 0.45 \\\\\n",
      "HadCM3L & 0.31 & 0.54 & 0.55 & 0.52 & 0.48 \\\\\n",
      "FAMOUS & 0.60 & 0.65 & 0.66 & 0.67 & 0.64 \\\\\n",
      "CNRMCM61 & 0.49 & 0.48 & 0.48 & 0.52 & 0.49 \\\\\n",
      "CESM104 & 0.38 & 0.41 & 0.45 & 0.45 & 0.42 \\\\\n",
      "CCSM3 & 0.48 & 0.49 & 0.41 & 0.43 & 0.45 \\\\\n",
      "Ensemble mean & 0.46 & 0.50 & 0.51 & 0.53 & 0.50 \\\\\n",
      "Mean of model results & 0.45 & 0.50 & 0.50 & 0.51 & 0.49 \\\\\n",
      "\\hline\n",
      "\\end{tabular}\n",
      "\n"
     ]
    }
   ],
   "source": [
    "s = forcing_ratio_df.style.format(precision=2)\n",
    "s.set_table_styles([\n",
    "        {'selector': 'toprule', 'props': ':hline;'},\n",
    "        {'selector': 'midrule', 'props': ':hline;'},\n",
    "        {'selector': 'bottomrule', 'props': ':hline;'}])\n",
    "print(s.to_latex(column_format= 'lccccc'))"
   ]
  },
  {
   "cell_type": "markdown",
   "id": "364f50bf-ca08-4e16-95ba-b2eef4cd390a",
   "metadata": {},
   "source": [
    "## Forcing ratio between NxCO2 and 2xCO2"
   ]
  },
  {
   "cell_type": "code",
   "execution_count": 178,
   "id": "869a769c-2c44-4e1d-884e-7b7b4730bbcf",
   "metadata": {},
   "outputs": [
    {
     "name": "stdout",
     "output_type": "stream",
     "text": [
      "\n",
      "\n",
      "mean forcing ratio when regressing 5 years is: 0.22016346068069353\n",
      "mean forcing ratio when regressing 10 years is: 0.23675654995948056\n",
      "mean forcing ratio when regressing 20 years is: 0.2447893882695749\n",
      "mean forcing ratio when regressing 30 years is: 0.25065483560599694\n"
     ]
    },
    {
     "data": {
      "image/png": "[encoded data removed]",
      "text/plain": [
       "<Figure size 1080x360 with 2 Axes>"
      ]
     },
     "metadata": {
      "needs_background": "light"
     },
     "output_type": "display_data"
    }
   ],
   "source": [
    "#model_list = ['HadCM3L'] # only one model ran 6xCO2\n",
    "#model_list = ['MPIESM12', 'HadCM3L', 'CESM104', 'CCSM3'] # 8x\n",
    "model_list = ['MPIESM12'] # 16x\n",
    "\n",
    "forcing_ratio_df2 = pd.DataFrame([],index = model_list + ['Ensemble mean','Mean of model results'], columns = reglengths + ['Mean'])\n",
    "\n",
    "fig, ax = plt.subplots(ncols = 2, figsize = (15,5))\n",
    "\n",
    "for (mm, model) in enumerate(model_list):    \n",
    "    # abrupt2x\n",
    "    model_tas_2x, model_toarad_2x = load_longrunmip_data(model, exp = 'abrupt2x', length_restriction = 150)\n",
    "    model_df_T_2x = pd.DataFrame(model_tas_2x, columns = [model])\n",
    "    model_df_N_2x = pd.DataFrame(model_toarad_2x, columns = [model])\n",
    "    \n",
    "    ax[0].scatter(model_tas_2x, model_toarad_2x)\n",
    "    \n",
    "    # abrupt4x\n",
    "    model_tas, model_toarad = load_longrunmip_data(model, exp = 'abrupt16x', length_restriction = 150)\n",
    "    model_df_T = pd.DataFrame(model_tas, columns = [model])\n",
    "    model_df_N = pd.DataFrame(model_toarad, columns = [model])\n",
    "    \n",
    "    ax[1].scatter(model_tas, model_toarad)\n",
    "    \n",
    "    for regyears in reglengths:\n",
    "        model_reg_2x = np.polyfit(model_tas_2x[:regyears], model_toarad_2x[:regyears], deg = 1)\n",
    "        model_reg = np.polyfit(model_tas[:regyears], model_toarad[:regyears], deg = 1)\n",
    "        forcing_ratio = model_reg_2x[1]/model_reg[1]\n",
    "        #forcing_ratio = model_reg[1]/model_reg_2x[1]\n",
    "        \n",
    "        forcing_ratio_df2[regyears].loc[model] = forcing_ratio\n",
    "        #if regyears == 5:\n",
    "        #    forcing_ratio_list.append(forcing_ratio)\n",
    "        #print(model, 'forcing ratio when regressing', regyears, 'years is:', forcing_ratio)\n",
    "    forcing_ratio_df2.loc[model]['Mean'] = np.nanmean(forcing_ratio_df2.loc[model].values)\n",
    "    \n",
    "    if mm == 0: # first model\n",
    "        df_T_2x = model_df_T_2x\n",
    "        df_N_2x = model_df_N_2x\n",
    "        df_T = model_df_T\n",
    "        df_N = model_df_N\n",
    "    else:\n",
    "        df_T_2x = pd.concat([df_T_2x, model_df_T_2x], axis = 1, ignore_index = True)\n",
    "        df_N_2x = pd.concat([df_N_2x, model_df_N_2x], axis = 1, ignore_index = True)\n",
    "        df_T = pd.concat([df_T, model_df_T], axis = 1, ignore_index = True)\n",
    "        df_N = pd.concat([df_N, model_df_N], axis = 1, ignore_index = True)\n",
    "        \n",
    "model_mean_T_2x = df_T_2x.mean(axis=1)\n",
    "model_mean_N_2x = df_N_2x.mean(axis=1)\n",
    "ax[0].scatter(model_mean_T_2x, model_mean_N_2x, marker = 'x', color = 'black', s = 200)\n",
    "model_mean_T = df_T.mean(axis=1)\n",
    "model_mean_N = df_N.mean(axis=1)\n",
    "ax[1].scatter(model_mean_T, model_mean_N, marker = 'x', color = 'black', s = 200)\n",
    "\n",
    "\n",
    "\n",
    "print('\\n')\n",
    "for regyears in [5, 10, 20, 30]:\n",
    "\n",
    "    reg_2x = np.polyfit(model_mean_T_2x[:regyears], model_mean_N_2x[:regyears], deg = 1)\n",
    "    T_incl0 = np.concatenate([[0], model_mean_T_2x[:regyears].values])\n",
    "    linfit_2x = np.polyval(reg_2x, T_incl0)\n",
    "    ax[0].plot(T_incl0, linfit_2x, color = 'black', linewidth = 2)\n",
    "\n",
    "    reg = np.polyfit(model_mean_T[:regyears], model_mean_N[:regyears], deg = 1)\n",
    "    T_incl0 = np.concatenate([[0], model_mean_T[:regyears].values])\n",
    "    linfit = np.polyval(reg, T_incl0)\n",
    "    ax[1].plot(T_incl0, linfit, color = 'black', linewidth = 2)\n",
    "\n",
    "    print('mean forcing ratio when regressing', regyears, 'years is:', reg_2x[1]/reg[1])\n",
    "    #print('mean forcing ratio when regressing', regyears, 'years is:', reg[1]/reg_2x[1])\n",
    "    forcing_ratio_df2.loc['Ensemble mean'][regyears] = reg_2x[1]/reg[1]\n",
    "forcing_ratio_df2.loc['Ensemble mean']['Mean'] = np.nanmean(forcing_ratio_df2.loc['Ensemble mean'].values)\n",
    "\n",
    "ax[0].set_xlim(0,4)\n",
    "ax[1].set_xlim(0,9)\n",
    "2\n",
    "for col in forcing_ratio_df.columns:\n",
    "    forcing_ratio_df2.loc['Mean of model results'][col] = forcing_ratio_df2.loc[model_list][col].mean()\n",
    "\n"
   ]
  },
  {
   "cell_type": "code",
   "execution_count": 180,
   "id": "92dda5d8-9605-418d-8e21-c5147d48190d",
   "metadata": {},
   "outputs": [
    {
     "data": {
      "text/html": [
       "<div>\n",
       "<style scoped>\n",
       "    .dataframe tbody tr th:only-of-type {\n",
       "        vertical-align: middle;\n",
       "    }\n",
       "\n",
       "    .dataframe tbody tr th {\n",
       "        vertical-align: top;\n",
       "    }\n",
       "\n",
       "    .dataframe thead th {\n",
       "        text-align: right;\n",
       "    }\n",
       "</style>\n",
       "<table border=\"1\" class=\"dataframe\">\n",
       "  <thead>\n",
       "    <tr style=\"text-align: right;\">\n",
       "      <th></th>\n",
       "      <th>5</th>\n",
       "      <th>10</th>\n",
       "      <th>20</th>\n",
       "      <th>30</th>\n",
       "      <th>Mean</th>\n",
       "    </tr>\n",
       "  </thead>\n",
       "  <tbody>\n",
       "    <tr>\n",
       "      <th>MPIESM12</th>\n",
       "      <td>0.220163</td>\n",
       "      <td>0.236757</td>\n",
       "      <td>0.244789</td>\n",
       "      <td>0.250655</td>\n",
       "      <td>0.238091</td>\n",
       "    </tr>\n",
       "    <tr>\n",
       "      <th>Ensemble mean</th>\n",
       "      <td>0.220163</td>\n",
       "      <td>0.236757</td>\n",
       "      <td>0.244789</td>\n",
       "      <td>0.250655</td>\n",
       "      <td>0.238091</td>\n",
       "    </tr>\n",
       "    <tr>\n",
       "      <th>Mean of model results</th>\n",
       "      <td>0.220163</td>\n",
       "      <td>0.236757</td>\n",
       "      <td>0.244789</td>\n",
       "      <td>0.250655</td>\n",
       "      <td>0.238091</td>\n",
       "    </tr>\n",
       "  </tbody>\n",
       "</table>\n",
       "</div>"
      ],
      "text/plain": [
       "                              5        10        20        30      Mean\n",
       "MPIESM12               0.220163  0.236757  0.244789  0.250655  0.238091\n",
       "Ensemble mean          0.220163  0.236757  0.244789  0.250655  0.238091\n",
       "Mean of model results  0.220163  0.236757  0.244789  0.250655  0.238091"
      ]
     },
     "execution_count": 180,
     "metadata": {},
     "output_type": "execute_result"
    }
   ],
   "source": [
    "forcing_ratio_df2"
   ]
  },
  {
   "cell_type": "code",
   "execution_count": 181,
   "id": "13912092-4315-49fd-941f-f76445379359",
   "metadata": {},
   "outputs": [],
   "source": [
    "forcing_ratio_df2.to_csv('../Other_estimates/forcing_ratios_2x_to_16x.csv')"
   ]
  },
  {
   "cell_type": "code",
   "execution_count": 119,
   "id": "0154a301-50fc-4f23-9111-f39bb0ba370e",
   "metadata": {},
   "outputs": [
    {
     "name": "stdout",
     "output_type": "stream",
     "text": [
      "\\begin{tabular}{lccccc}\n",
      "\\hline\n",
      " & 5 & 10 & 20 & 30 & Mean \\\\\n",
      "\\hline\n",
      "CESM2 & -0.75 & -1.11 & -1.18 & -1.28 & -1.08 \\\\\n",
      "CNRM-CM6-1 & -1.11 & -1.16 & -1.13 & -1.22 & -1.15 \\\\\n",
      "CanESM5 & -1.06 & -1.16 & -1.11 & -1.08 & -1.10 \\\\\n",
      "GISS-E2-1-G & -1.03 & -0.99 & -1.00 & -1.02 & -1.01 \\\\\n",
      "IPSL-CM6A-LR & -1.53 & -1.32 & -1.40 & -1.37 & -1.41 \\\\\n",
      "MIROC6 & -1.33 & -1.14 & -1.07 & -1.14 & -1.17 \\\\\n",
      "MRI-ESM2-0 & -0.94 & -0.95 & -0.87 & -0.86 & -0.90 \\\\\n",
      "TaiESM1 & -1.26 & -1.28 & -1.34 & -1.36 & -1.31 \\\\\n",
      "HadGEM3-GC31-LL & -1.05 & -1.02 & -0.98 & -0.99 & -1.01 \\\\\n",
      "Ensemble mean & -1.16 & -1.15 & -1.12 & -1.15 & -1.15 \\\\\n",
      "Mean of model results & -1.12 & -1.12 & -1.12 & -1.15 & -1.13 \\\\\n",
      "\\hline\n",
      "\\end{tabular}\n",
      "\n"
     ]
    }
   ],
   "source": [
    "s2 = forcing_ratio_df2.style.format(precision=2)\n",
    "s2.set_table_styles([\n",
    "        {'selector': 'toprule', 'props': ':hline;'},\n",
    "        {'selector': 'midrule', 'props': ':hline;'},\n",
    "        {'selector': 'bottomrule', 'props': ':hline;'}])\n",
    "print(s2.to_latex(column_format= 'lccccc'))"
   ]
  },
  {
   "cell_type": "markdown",
   "id": "52f12318-799c-4020-bc3c-8b332533b98a",
   "metadata": {},
   "source": [
    "## Convert all tables to latex"
   ]
  },
  {
   "cell_type": "code",
   "execution_count": 194,
   "id": "45ba9154-a16a-496b-972a-77ce87e14a42",
   "metadata": {},
   "outputs": [],
   "source": [
    "table4x = pd.read_csv('../Other_estimates/forcing_ratios_2x_to_4x_longrunmip.csv', index_col=0)\n",
    "table6x = pd.read_csv('../Other_estimates/forcing_ratios_2x_to_6x_longrunmip.csv', index_col=0)\n",
    "table8x = pd.read_csv('../Other_estimates/forcing_ratios_2x_to_8x_longrunmip.csv', index_col=0)\n",
    "table16x = pd.read_csv('../Other_estimates/forcing_ratios_2x_to_16x_longrunmip.csv', index_col=0)\n"
   ]
  },
  {
   "cell_type": "code",
   "execution_count": 196,
   "id": "002d938b-5358-49e9-8cc0-760ef07a9186",
   "metadata": {},
   "outputs": [
    {
     "name": "stdout",
     "output_type": "stream",
     "text": [
      "\\begin{tabular}{lccccc}\n",
      "\\hline\n",
      " & 5 & 10 & 20 & 30 & Mean \\\\\n",
      "\\hline\n",
      "MPIESM12 & 0.44 & 0.45 & 0.45 & 0.46 & 0.45 \\\\\n",
      "HadCM3L & 0.31 & 0.54 & 0.55 & 0.52 & 0.48 \\\\\n",
      "FAMOUS & 0.60 & 0.65 & 0.66 & 0.67 & 0.64 \\\\\n",
      "CNRMCM61 & 0.49 & 0.48 & 0.48 & 0.52 & 0.49 \\\\\n",
      "CESM104 & 0.38 & 0.41 & 0.45 & 0.45 & 0.42 \\\\\n",
      "CCSM3 & 0.48 & 0.49 & 0.41 & 0.43 & 0.45 \\\\\n",
      "Ensemble mean & 0.46 & 0.50 & 0.51 & 0.53 & 0.50 \\\\\n",
      "Mean of model results & 0.45 & 0.50 & 0.50 & 0.51 & 0.49 \\\\\n",
      "\\hline\n",
      "\\end{tabular}\n",
      "\n",
      "\\begin{tabular}{lccccc}\n",
      "\\hline\n",
      " & 5 & 10 & 20 & 30 & Mean \\\\\n",
      "\\hline\n",
      "HadCM3L & 0.22 & 0.41 & 0.40 & 0.38 & 0.35 \\\\\n",
      "Ensemble mean & 0.22 & 0.41 & 0.40 & 0.38 & 0.35 \\\\\n",
      "Mean of model results & 0.22 & 0.41 & 0.40 & 0.38 & 0.35 \\\\\n",
      "\\hline\n",
      "\\end{tabular}\n",
      "\n",
      "\\begin{tabular}{lccccc}\n",
      "\\hline\n",
      " & 5 & 10 & 20 & 30 & Mean \\\\\n",
      "\\hline\n",
      "MPIESM12 & 0.30 & 0.32 & 0.33 & 0.33 & 0.32 \\\\\n",
      "HadCM3L & 0.22 & 0.41 & 0.40 & 0.38 & 0.35 \\\\\n",
      "CESM104 & 0.23 & 0.26 & 0.27 & 0.27 & 0.26 \\\\\n",
      "CCSM3 & 0.29 & 0.30 & 0.26 & 0.26 & 0.28 \\\\\n",
      "Ensemble mean & 0.26 & 0.32 & 0.31 & 0.32 & 0.30 \\\\\n",
      "Mean of model results & 0.26 & 0.32 & 0.31 & 0.31 & 0.30 \\\\\n",
      "\\hline\n",
      "\\end{tabular}\n",
      "\n",
      "\\begin{tabular}{lccccc}\n",
      "\\hline\n",
      " & 5 & 10 & 20 & 30 & Mean \\\\\n",
      "\\hline\n",
      "MPIESM12 & 0.22 & 0.24 & 0.24 & 0.25 & 0.24 \\\\\n",
      "Ensemble mean & 0.22 & 0.24 & 0.24 & 0.25 & 0.24 \\\\\n",
      "Mean of model results & 0.22 & 0.24 & 0.24 & 0.25 & 0.24 \\\\\n",
      "\\hline\n",
      "\\end{tabular}\n",
      "\n"
     ]
    }
   ],
   "source": [
    "for table in [table4x, table6x, table8x, table16x]:\n",
    "    s2 = table.style.format(precision=2)\n",
    "    s2.set_table_styles([\n",
    "            {'selector': 'toprule', 'props': ':hline;'},\n",
    "            {'selector': 'midrule', 'props': ':hline;'},\n",
    "            {'selector': 'bottomrule', 'props': ':hline;'}])\n",
    "    print(s2.to_latex(column_format= 'lccccc'))"
   ]
  },
  {
   "cell_type": "code",
   "execution_count": null,
   "id": "116e799a-d473-4aaa-9478-7137821f9633",
   "metadata": {},
   "outputs": [],
   "source": []
  }
 ],
 "metadata": {
  "kernelspec": {
   "display_name": "CMIP6analysis",
   "language": "python",
   "name": "cmip6analysis"
  },
  "language_info": {
   "codemirror_mode": {
    "name": "ipython",
    "version": 3
   },
   "file_extension": ".py",
   "mimetype": "text/x-python",
   "name": "python",
   "nbconvert_exporter": "python",
   "pygments_lexer": "ipython3",
   "version": "3.8.12"
  }
 },
 "nbformat": 4,
 "nbformat_minor": 5
}
